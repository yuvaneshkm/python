{
 "cells": [
  {
   "cell_type": "markdown",
   "metadata": {},
   "source": [
    "## Basics"
   ]
  },
  {
   "cell_type": "markdown",
   "metadata": {},
   "source": [
    "#### Keywords\n",
    "- Keywords are reserved words.\n",
    "- They are case-sensitive.\n",
    "- Currently there are 33 keywords.\n",
    "- Example:\n",
    "    1. print\n",
    "    2. def\n",
    "    3. True\n",
    "    4. False\n",
    "\n",
    "#### Identifiers\n",
    "- Name given to entities like class, variables, functions etc......\n",
    "- Example:\n",
    "    1. my_varialbe = [1,2,3,4,5,6,7,8,9]\n",
    "\n",
    "#### Comments\n",
    "- Python gives you the fexibility to write comments.\n",
    "- You can use (#) symbol to write comments as your wish.\n",
    "\n",
    "#### Doc strings\n",
    "- Doc string --> Documentation String.\n",
    "- Docstrings in python are the string literals that appear right after the definition of a function, method, class or a module.\n",
    "- Example:\n",
    "    1. '''This is Doc String'''"
   ]
  },
  {
   "cell_type": "code",
   "execution_count": 33,
   "metadata": {},
   "outputs": [
    {
     "name": "stdout",
     "output_type": "stream",
     "text": [
      "5\n"
     ]
    }
   ],
   "source": [
    "# Example:\n",
    "\n",
    "def funct(a):\n",
    "    '''This is a function to print (a)'''\n",
    "    print(a)\n",
    "\n",
    "a = 5\n",
    "funct(a)"
   ]
  },
  {
   "cell_type": "markdown",
   "metadata": {},
   "source": [
    "#### Variables\n",
    "- A container that holds space in memory in order to store something in memory."
   ]
  },
  {
   "cell_type": "code",
   "execution_count": 34,
   "metadata": {},
   "outputs": [
    {
     "data": {
      "text/plain": [
       "140721942237368"
      ]
     },
     "execution_count": 34,
     "metadata": {},
     "output_type": "execute_result"
    }
   ],
   "source": [
    "# Example:\n",
    "\n",
    "my_var = 185\n",
    "id(my_var)"
   ]
  },
  {
   "cell_type": "markdown",
   "metadata": {},
   "source": [
    "#### Datatypes in python\n",
    "- Numeric\n",
    "    1. Integer\n",
    "    2. Float\n",
    "    3. Complex Number\n",
    "- Sequence\n",
    "    1. String\n",
    "    2. List\n",
    "    3. Tuple\n",
    "- Dictionary\n",
    "- Set\n",
    "- Boolean"
   ]
  },
  {
   "cell_type": "code",
   "execution_count": 35,
   "metadata": {},
   "outputs": [
    {
     "name": "stdout",
     "output_type": "stream",
     "text": [
      "<class 'int'>\n",
      "<class 'float'>\n",
      "<class 'complex'>\n",
      "<class 'str'>\n",
      "<class 'list'>\n",
      "<class 'tuple'>\n",
      "<class 'dict'>\n",
      "<class 'set'>\n",
      "<class 'bool'>\n"
     ]
    }
   ],
   "source": [
    "# Example:\n",
    "\n",
    "# Integer:\n",
    "a = 5\n",
    "print(type(a))\n",
    "\n",
    "# Float:\n",
    "b = 10.563\n",
    "print(type(b))\n",
    "\n",
    "# Complex Number:\n",
    "c = 10+5j\n",
    "print(type(c))\n",
    "\n",
    "# String: \"string\"\n",
    "d = \"Hello World\"\n",
    "print(type(d))\n",
    "\n",
    "# List: [item1, item2]\n",
    "e = [\"Python\", \"Java\", \"C++\"]\n",
    "print(type(e))\n",
    "\n",
    "# Tuple: (item1, item2)\n",
    "f = (\"Sun\", \"Moon\", \"Star\", \"Earth\")\n",
    "print(type(f))\n",
    "\n",
    "# Dictionary: {key:value}\n",
    "g = {\"Gujarat\":\"Gandhinagar\", \"Maharastra\":\"Mumbai\", \"Goa\":\"Panaji\"}\n",
    "print(type(g))\n",
    "\n",
    "# Set: {item1, item2}\n",
    "h = {1,2,3,4,5,6}\n",
    "print(type(h))\n",
    "\n",
    "# Boolean:\n",
    "i = True   # can also be False\n",
    "print(type(i))"
   ]
  },
  {
   "cell_type": "markdown",
   "metadata": {},
   "source": [
    "#### Typecasting\n",
    "- Type Casting is the method to convert the Python variable datatype into a certain data type in order to perform the required operation by users."
   ]
  },
  {
   "cell_type": "code",
   "execution_count": 36,
   "metadata": {},
   "outputs": [
    {
     "name": "stdout",
     "output_type": "stream",
     "text": [
      "The value of a is 5\n"
     ]
    }
   ],
   "source": [
    "# Example:\n",
    "\n",
    "a = 5\n",
    "# converting the datatype of a from integer to string\n",
    "message = \"The value of a is \" + str(a)\n",
    "print(message)"
   ]
  },
  {
   "cell_type": "markdown",
   "metadata": {},
   "source": [
    "#### Multiple Assignment\n",
    "- It allows us to assign multiple variables at a same time in one line of code."
   ]
  },
  {
   "cell_type": "code",
   "execution_count": 38,
   "metadata": {},
   "outputs": [
    {
     "name": "stdout",
     "output_type": "stream",
     "text": [
      "Earth\n",
      "India\n",
      "Bombay\n",
      "Bombay\n"
     ]
    }
   ],
   "source": [
    "# Example:\n",
    "\n",
    "planet, country = \"Earth\", \"India\"\n",
    "print(planet)\n",
    "print(country)\n",
    "\n",
    "a = b = \"Bombay\"\n",
    "print(a)\n",
    "print(b)"
   ]
  },
  {
   "cell_type": "markdown",
   "metadata": {},
   "source": [
    "#### Input\n",
    "- In python we use input() function to get input from the user.\n",
    "- By default it will accept string as an input.\n",
    "- If you need, you can change the datatype of the input."
   ]
  },
  {
   "cell_type": "code",
   "execution_count": 43,
   "metadata": {},
   "outputs": [
    {
     "name": "stdout",
     "output_type": "stream",
     "text": [
      "My name is: Yuvanesh\n",
      "My age is: 23\n"
     ]
    }
   ],
   "source": [
    "# Example:\n",
    "\n",
    "name = input(\"Enter your name: \")\n",
    "age = int(input(\"Enter your age: \"))\n",
    "\n",
    "print(\"My name is:\",name)\n",
    "print(\"My age is:\",age)"
   ]
  },
  {
   "cell_type": "markdown",
   "metadata": {},
   "source": [
    "#### Output\n",
    "- In python we use print() function to display the output."
   ]
  },
  {
   "cell_type": "code",
   "execution_count": 52,
   "metadata": {},
   "outputs": [
    {
     "name": "stdout",
     "output_type": "stream",
     "text": [
      "Name is: Yuvanesh\n",
      "Dept is: CSBS\n",
      "Age is: 23\n"
     ]
    }
   ],
   "source": [
    "# Example:\n",
    "\n",
    "name = \"Yuvanesh\"\n",
    "dept = \"CSBS\"\n",
    "age = 23\n",
    "\n",
    "print(\"Name is:\",name)\n",
    "print(\"Dept is:\",dept)\n",
    "print(\"Age is:\",age)"
   ]
  },
  {
   "cell_type": "code",
   "execution_count": 54,
   "metadata": {},
   "outputs": [
    {
     "name": "stdout",
     "output_type": "stream",
     "text": [
      "Name is: Yuvanesh\n",
      "Dept is: CSBS\n",
      "Age is: 23\n"
     ]
    }
   ],
   "source": [
    "print(\n",
    "    \"Name is: {}\\nDept is: {}\\nAge is: {}\".format(name, dept, age)\n",
    ")"
   ]
  },
  {
   "cell_type": "code",
   "execution_count": 53,
   "metadata": {},
   "outputs": [
    {
     "name": "stdout",
     "output_type": "stream",
     "text": [
      "Name is: Yuvanesh\n",
      "Dept is: CSBS\n",
      "Age is: 23\n"
     ]
    }
   ],
   "source": [
    "print(\n",
    "    f\"Name is: {name}\\nDept is: {dept}\\nAge is: {age}\"\n",
    ")"
   ]
  },
  {
   "cell_type": "code",
   "execution_count": null,
   "metadata": {},
   "outputs": [],
   "source": []
  }
 ],
 "metadata": {
  "kernelspec": {
   "display_name": "Python 3",
   "language": "python",
   "name": "python3"
  },
  "language_info": {
   "codemirror_mode": {
    "name": "ipython",
    "version": 3
   },
   "file_extension": ".py",
   "mimetype": "text/x-python",
   "name": "python",
   "nbconvert_exporter": "python",
   "pygments_lexer": "ipython3",
   "version": "3.12.4"
  }
 },
 "nbformat": 4,
 "nbformat_minor": 2
}
