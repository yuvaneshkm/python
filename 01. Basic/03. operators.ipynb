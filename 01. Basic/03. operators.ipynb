{
 "cells": [
  {
   "cell_type": "markdown",
   "metadata": {},
   "source": [
    "## Operators\n",
    "- In python to carry out arithmetic or logical computation, we use special symbols called operators.\n",
    "\n",
    "#### Types of Operators\n",
    "- Arithmetic operators\n",
    "- Comparison operators\n",
    "- Assignment operators\n",
    "- Logical operators\n",
    "- Bitwise operators\n",
    "- Special operators\n",
    "- Membership operators"
   ]
  },
  {
   "cell_type": "markdown",
   "metadata": {},
   "source": [
    "#### Arithmetic Operators\n",
    "- To do any kind of arithmetic opeartions.\n",
    "    1. Add (+)\n",
    "    2. Subtract (-)\n",
    "    3. Multiply (*)\n",
    "    4. Divide (/)\n",
    "    5. Modulus-Remainder (%)\n",
    "    6. Floor-Quotient (//)\n",
    "    7. Exponent (**)"
   ]
  },
  {
   "cell_type": "code",
   "execution_count": 12,
   "metadata": {},
   "outputs": [
    {
     "name": "stdout",
     "output_type": "stream",
     "text": [
      "10+3 = 13\n",
      "10-3 = 7\n",
      "10*3 = 30\n",
      "10/3 = 3.3333333333333335\n",
      "10%3 = 1\n",
      "10//3 = 3\n",
      "10**3 = 1000\n"
     ]
    }
   ],
   "source": [
    "# Example:\n",
    "\n",
    "a = 10\n",
    "b = 3\n",
    "\n",
    "# addition:\n",
    "print(f\"{a}+{b} = {a+b}\")\n",
    "\n",
    "# subtraction:\n",
    "print(f\"{a}-{b} = {a-b}\")\n",
    "\n",
    "# multiplication:\n",
    "print(f\"{a}*{b} = {a*b}\")\n",
    "\n",
    "# division:\n",
    "print(f\"{a}/{b} = {a/b}\")\n",
    "\n",
    "# remainder (modulus):\n",
    "print(f\"{a}%{b} = {a%b}\")\n",
    "\n",
    "# quotient (floor):\n",
    "print(f\"{a}//{b} = {a//b}\")\n",
    "\n",
    "# exponent (power):\n",
    "print(f\"{a}**{b} = {a**b}\")"
   ]
  },
  {
   "cell_type": "markdown",
   "metadata": {},
   "source": [
    "#### Comparison Operators\n",
    "- Used to make comparisons in python.\n",
    "- The output is either True or False.\n",
    "    1. is Grater than (>)\n",
    "    2. is Lesser than (<)\n",
    "    3. is Equal to (==)\n",
    "    4. is not Equal to (!=)\n",
    "    5. is Grater than or equal to (>=)\n",
    "    6. is Less than or equal to (<=)"
   ]
  },
  {
   "cell_type": "code",
   "execution_count": 14,
   "metadata": {},
   "outputs": [
    {
     "name": "stdout",
     "output_type": "stream",
     "text": [
      "True\n"
     ]
    }
   ],
   "source": [
    "# Example:\n",
    "\n",
    "a = 5\n",
    "b = 5\n",
    "print(a==b)"
   ]
  },
  {
   "cell_type": "markdown",
   "metadata": {},
   "source": [
    "#### Assignment Operators\n",
    "- Assign values to variables.\n",
    "    1. =\n",
    "    2. +=\n",
    "    3. -=\n",
    "    4. *=\n",
    "    5. /=\n",
    "    6. %=\n",
    "    7. //=\n",
    "    8. **="
   ]
  },
  {
   "cell_type": "code",
   "execution_count": 16,
   "metadata": {},
   "outputs": [
    {
     "name": "stdout",
     "output_type": "stream",
     "text": [
      "10\n"
     ]
    }
   ],
   "source": [
    "# Example:\n",
    "\n",
    "x = 5\n",
    "x+=5\n",
    "print(x)"
   ]
  },
  {
   "cell_type": "markdown",
   "metadata": {},
   "source": [
    "#### Logical Operators\n",
    "Used for logical operation\n",
    "- They are used on conditional statements.\n",
    "- A --> statement 1\n",
    "- B --> statement 2\n",
    "    1. and (A.B)\n",
    "    2. or (A+B)\n",
    "    3. not (~A)"
   ]
  },
  {
   "cell_type": "code",
   "execution_count": 21,
   "metadata": {},
   "outputs": [
    {
     "data": {
      "text/plain": [
       "False"
      ]
     },
     "execution_count": 21,
     "metadata": {},
     "output_type": "execute_result"
    }
   ],
   "source": [
    "# Example:\n",
    "\n",
    "a = 5\n",
    "b = 10\n",
    "\n",
    "(a>5) and (b==10)"
   ]
  },
  {
   "cell_type": "markdown",
   "metadata": {},
   "source": [
    "#### Bitwise Operator\n",
    "Used for bitwise operation\n",
    "1. bitwise and ---> (&) ---> (A.B)\n",
    "2. bitwise or ---> (|) ---> (A+B)\n",
    "3. bitwise not ---> (~) ---> (~A)\n",
    "4. bitwise xor ---> (^) ---> (~A.B + A.~B)\n",
    "5. bitwise right-shift ---> (>>)\n",
    "6. bitwise left-shift ---> (<<)"
   ]
  },
  {
   "cell_type": "code",
   "execution_count": 46,
   "metadata": {},
   "outputs": [
    {
     "name": "stdout",
     "output_type": "stream",
     "text": [
      "40\n",
      "2\n"
     ]
    }
   ],
   "source": [
    "# Example:\n",
    "\n",
    "a = 10\n",
    "b = 2\n",
    "\n",
    "print(a<<b) # left-shift\n",
    "print(a>>b) # right-shift"
   ]
  },
  {
   "cell_type": "markdown",
   "metadata": {},
   "source": [
    "#### Special Operators\n",
    "1. is\n",
    "2. is not"
   ]
  },
  {
   "cell_type": "code",
   "execution_count": 48,
   "metadata": {},
   "outputs": [
    {
     "name": "stdout",
     "output_type": "stream",
     "text": [
      "True\n",
      "False\n"
     ]
    }
   ],
   "source": [
    "# Example:\n",
    "\n",
    "a = 10\n",
    "b = 10\n",
    "\n",
    "print(a is b)\n",
    "print(a is not b)"
   ]
  },
  {
   "cell_type": "markdown",
   "metadata": {},
   "source": [
    "#### Membership Operators\n",
    "1. in\n",
    "2. not in"
   ]
  },
  {
   "cell_type": "code",
   "execution_count": 49,
   "metadata": {},
   "outputs": [
    {
     "name": "stdout",
     "output_type": "stream",
     "text": [
      "False\n",
      "True\n"
     ]
    }
   ],
   "source": [
    "# Example:\n",
    "\n",
    "a = [1,2,3,4,5,6]\n",
    "\n",
    "print(0 in a)\n",
    "print(10 not in a)"
   ]
  },
  {
   "cell_type": "code",
   "execution_count": null,
   "metadata": {},
   "outputs": [],
   "source": []
  }
 ],
 "metadata": {
  "kernelspec": {
   "display_name": "Python 3",
   "language": "python",
   "name": "python3"
  },
  "language_info": {
   "codemirror_mode": {
    "name": "ipython",
    "version": 3
   },
   "file_extension": ".py",
   "mimetype": "text/x-python",
   "name": "python",
   "nbconvert_exporter": "python",
   "pygments_lexer": "ipython3",
   "version": "3.12.4"
  }
 },
 "nbformat": 4,
 "nbformat_minor": 2
}
