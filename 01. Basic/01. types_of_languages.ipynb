{
 "cells": [
  {
   "cell_type": "markdown",
   "metadata": {},
   "source": [
    "## Types of Language\n",
    "- Procedural\n",
    "- Functional\n",
    "- Object Oriented\n",
    "    "
   ]
  },
  {
   "cell_type": "markdown",
   "metadata": {},
   "source": [
    "### Procedural\n",
    "- A procedural programming language is a type of computer coding language that uses a sequential, step-by-step approach to solve problems"
   ]
  },
  {
   "cell_type": "code",
   "execution_count": 1,
   "metadata": {},
   "outputs": [
    {
     "name": "stdout",
     "output_type": "stream",
     "text": [
      "11\n"
     ]
    }
   ],
   "source": [
    "a = 6\n",
    "b = 5\n",
    "c = a + b\n",
    "print(c)"
   ]
  },
  {
   "cell_type": "markdown",
   "metadata": {},
   "source": [
    "### Functional\n",
    "- A functional programming language (FPL) is a computer language that uses pure functions to create and edit software"
   ]
  },
  {
   "cell_type": "code",
   "execution_count": 2,
   "metadata": {},
   "outputs": [
    {
     "data": {
      "text/plain": [
       "11"
      ]
     },
     "execution_count": 2,
     "metadata": {},
     "output_type": "execute_result"
    }
   ],
   "source": [
    "def sum_(a,b):\n",
    "    return a+b\n",
    "\n",
    "sum_(6,5)"
   ]
  },
  {
   "cell_type": "markdown",
   "metadata": {},
   "source": [
    "### Oject Oriented\n",
    "- Object-oriented programming (OOP) is a computer programming model that organizes software design around objects, or data, instead of logic and functions. In OOP, programs are made up of objects that interact with each other"
   ]
  },
  {
   "cell_type": "code",
   "execution_count": 5,
   "metadata": {},
   "outputs": [
    {
     "data": {
      "text/plain": [
       "'odd'"
      ]
     },
     "execution_count": 5,
     "metadata": {},
     "output_type": "execute_result"
    }
   ],
   "source": [
    "# sum of two numbers is even or odd:\n",
    "\n",
    "class EvenOdd:\n",
    "\n",
    "    def sum_(self, a,b):\n",
    "        return a+b\n",
    "    \n",
    "    def even_odd(self, a,b):\n",
    "        c = self.sum_(a,b)\n",
    "        result = \"\"\n",
    "        if c%2==0:\n",
    "            result = \"even\"\n",
    "        else:\n",
    "            result = \"odd\"\n",
    "        return result\n",
    "\n",
    "obj1 = EvenOdd()\n",
    "obj1.even_odd(5,6)"
   ]
  },
  {
   "cell_type": "code",
   "execution_count": null,
   "metadata": {},
   "outputs": [],
   "source": []
  }
 ],
 "metadata": {
  "kernelspec": {
   "display_name": "Python 3",
   "language": "python",
   "name": "python3"
  },
  "language_info": {
   "codemirror_mode": {
    "name": "ipython",
    "version": 3
   },
   "file_extension": ".py",
   "mimetype": "text/x-python",
   "name": "python",
   "nbconvert_exporter": "python",
   "pygments_lexer": "ipython3",
   "version": "3.12.4"
  }
 },
 "nbformat": 4,
 "nbformat_minor": 2
}
