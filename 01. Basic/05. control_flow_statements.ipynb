{
 "cells": [
  {
   "cell_type": "markdown",
   "metadata": {},
   "source": [
    "## Control Flow Statements (Loops)\n",
    "- for loop\n",
    "- while loop"
   ]
  },
  {
   "cell_type": "markdown",
   "metadata": {},
   "source": [
    "#### for loop\n",
    "- Used to repeat a block of code a known number of times. "
   ]
  },
  {
   "cell_type": "code",
   "execution_count": null,
   "metadata": {},
   "outputs": [
    {
     "name": "stdout",
     "output_type": "stream",
     "text": [
      "5050\n"
     ]
    }
   ],
   "source": [
    "# Example 1:\n",
    "# calculate the sum of first 100 natural numbers:\n",
    "\n",
    "result = 0\n",
    "for i in range(1,101,1):\n",
    "    result = result + i\n",
    "print(result)"
   ]
  },
  {
   "cell_type": "code",
   "execution_count": null,
   "metadata": {},
   "outputs": [
    {
     "name": "stdout",
     "output_type": "stream",
     "text": [
      "1 --> apple\n",
      "2 --> orange\n",
      "3 --> pineapple\n"
     ]
    }
   ],
   "source": [
    "# Example 2:\n",
    "# enumerate() --> used to access the index as well as the value of a iterable: \n",
    "\n",
    "for index,value in enumerate([\"apple\",\"orange\",\"pineapple\"]):\n",
    "    print(index+1,\"-->\",value)"
   ]
  },
  {
   "cell_type": "code",
   "execution_count": 14,
   "metadata": {},
   "outputs": [
    {
     "name": "stdout",
     "output_type": "stream",
     "text": [
      "apple --> fruit\n",
      "onion --> vegetable\n",
      "peanuts --> nuts\n"
     ]
    }
   ],
   "source": [
    "# Example 3:\n",
    "# zip() --> used to access from two different iterable at a same time:\n",
    "\n",
    "for i,j in zip([\"apple\",\"onion\",\"peanuts\"], [\"fruit\",\"vegetable\",\"nuts\"]):\n",
    "    print(i,\"-->\",j)"
   ]
  },
  {
   "cell_type": "markdown",
   "metadata": {},
   "source": [
    "#### while loop\n",
    "- Used to repeat a block of code an unknown number of times until a condition is met."
   ]
  },
  {
   "cell_type": "code",
   "execution_count": null,
   "metadata": {},
   "outputs": [
    {
     "name": "stdout",
     "output_type": "stream",
     "text": [
      "5050\n"
     ]
    }
   ],
   "source": [
    "# Example 1:\n",
    "# calculate the sum of first 100 natural numbers:\n",
    "\n",
    "num = 1\n",
    "result = 0\n",
    "\n",
    "while (num<=100):\n",
    "    result = result + num\n",
    "    num+=1\n",
    "    \n",
    "print(result)"
   ]
  },
  {
   "cell_type": "code",
   "execution_count": 24,
   "metadata": {},
   "outputs": [
    {
     "name": "stdout",
     "output_type": "stream",
     "text": [
      "Apple\n",
      "Orange\n",
      "Banana\n",
      "Papaya\n",
      "Pineapple\n"
     ]
    }
   ],
   "source": [
    "# Example 2:\n",
    "\n",
    "fruits = [\"Apple\",\"Orange\",\"Banana\",\"Papaya\",\"Pineapple\"]\n",
    "\n",
    "i = 0\n",
    "while (i<len(fruits)):\n",
    "    print(fruits[i])\n",
    "    i+=1"
   ]
  },
  {
   "cell_type": "code",
   "execution_count": null,
   "metadata": {},
   "outputs": [],
   "source": []
  }
 ],
 "metadata": {
  "kernelspec": {
   "display_name": "Python 3",
   "language": "python",
   "name": "python3"
  },
  "language_info": {
   "codemirror_mode": {
    "name": "ipython",
    "version": 3
   },
   "file_extension": ".py",
   "mimetype": "text/x-python",
   "name": "python",
   "nbconvert_exporter": "python",
   "pygments_lexer": "ipython3",
   "version": "3.12.4"
  }
 },
 "nbformat": 4,
 "nbformat_minor": 2
}
