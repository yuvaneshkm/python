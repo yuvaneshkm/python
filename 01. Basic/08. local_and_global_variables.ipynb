{
 "cells": [
  {
   "cell_type": "markdown",
   "metadata": {},
   "source": [
    "## Local and Global variables\n",
    "- Local variable\n",
    "- Global variable"
   ]
  },
  {
   "cell_type": "markdown",
   "metadata": {},
   "source": [
    "#### Local variable\n",
    "- Variables that are defined inside a function and cannot be used outside a function are called local variables."
   ]
  },
  {
   "cell_type": "code",
   "execution_count": null,
   "metadata": {},
   "outputs": [
    {
     "name": "stdout",
     "output_type": "stream",
     "text": [
      "Hello! Yuvanesh\n"
     ]
    },
    {
     "ename": "NameError",
     "evalue": "name 'msg' is not defined",
     "output_type": "error",
     "traceback": [
      "\u001b[1;31m---------------------------------------------------------------------------\u001b[0m",
      "\u001b[1;31mNameError\u001b[0m                                 Traceback (most recent call last)",
      "Cell \u001b[1;32mIn[5], line 9\u001b[0m\n\u001b[0;32m      6\u001b[0m     \u001b[38;5;28;01mreturn\u001b[39;00m final_msg\n\u001b[0;32m      8\u001b[0m \u001b[38;5;28mprint\u001b[39m(greetings(\u001b[38;5;124m\"\u001b[39m\u001b[38;5;124mYuvanesh\u001b[39m\u001b[38;5;124m\"\u001b[39m))\n\u001b[1;32m----> 9\u001b[0m \u001b[38;5;28mprint\u001b[39m(\u001b[43mmsg\u001b[49m)\n",
      "\u001b[1;31mNameError\u001b[0m: name 'msg' is not defined"
     ]
    }
   ],
   "source": [
    "# Example:\n",
    "\n",
    "def greetings(name):\n",
    "    # local variable:\n",
    "    msg = \"Hello!\"\n",
    "    final_msg = f\"{msg} {name}\"\n",
    "    \n",
    "    return final_msg\n",
    "\n",
    "print(greetings(\"Yuvanesh\"))\n",
    "print(msg)"
   ]
  },
  {
   "cell_type": "markdown",
   "metadata": {},
   "source": [
    "#### Global variable\n",
    "- Variables that are defined outside the function and can be used from outside the function are called global variables."
   ]
  },
  {
   "cell_type": "code",
   "execution_count": 6,
   "metadata": {},
   "outputs": [
    {
     "name": "stdout",
     "output_type": "stream",
     "text": [
      "Hello! Yuvanesh\n",
      "Hello!\n"
     ]
    }
   ],
   "source": [
    "# Example:\n",
    "\n",
    "# global variable:\n",
    "msg = \"Hello!\"\n",
    "\n",
    "def greeting(name):\n",
    "    final_msg = f\"{msg} {name}\"\n",
    "    return final_msg\n",
    "\n",
    "print(greetings(\"Yuvanesh\"))\n",
    "print(msg)"
   ]
  },
  {
   "cell_type": "code",
   "execution_count": null,
   "metadata": {},
   "outputs": [],
   "source": []
  }
 ],
 "metadata": {
  "kernelspec": {
   "display_name": "Python 3",
   "language": "python",
   "name": "python3"
  },
  "language_info": {
   "codemirror_mode": {
    "name": "ipython",
    "version": 3
   },
   "file_extension": ".py",
   "mimetype": "text/x-python",
   "name": "python",
   "nbconvert_exporter": "python",
   "pygments_lexer": "ipython3",
   "version": "3.12.4"
  }
 },
 "nbformat": 4,
 "nbformat_minor": 2
}
