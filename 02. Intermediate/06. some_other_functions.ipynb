{
 "cells": [
  {
   "cell_type": "markdown",
   "metadata": {},
   "source": [
    "## Some other Functions"
   ]
  },
  {
   "cell_type": "markdown",
   "metadata": {},
   "source": [
    "### Map function\n",
    "* Map applies a function to all the items in an input Iterables."
   ]
  },
  {
   "cell_type": "code",
   "execution_count": 10,
   "metadata": {},
   "outputs": [
    {
     "data": {
      "text/plain": [
       "['Aakash',\n",
       " 'Rajesh',\n",
       " 'Hari Prasad',\n",
       " 'Aadhikesh',\n",
       " 'Yaashwan',\n",
       " 'Iliyas',\n",
       " 'Asgar George']"
      ]
     },
     "execution_count": 10,
     "metadata": {},
     "output_type": "execute_result"
    }
   ],
   "source": [
    "# Example:\n",
    "\n",
    "friends = [\"aakash\", \"rajesh\", \"hari prasad\", \"aadhikesh\", \"yaashwan\", \"iliyas\", \"asgar george\"]\n",
    "\n",
    "def title_the_string(x):\n",
    "    return x.title()\n",
    "\n",
    "friends = list(map(title_the_string, friends))\n",
    "friends"
   ]
  },
  {
   "cell_type": "markdown",
   "metadata": {},
   "source": [
    "### Filter function\n",
    "* As the name suggests, filter creates a list of elements for which a function returns True."
   ]
  },
  {
   "cell_type": "code",
   "execution_count": 19,
   "metadata": {},
   "outputs": [
    {
     "data": {
      "text/plain": [
       "['Aakash', 'Aadhikesh', 'Asgar George']"
      ]
     },
     "execution_count": 19,
     "metadata": {},
     "output_type": "execute_result"
    }
   ],
   "source": [
    "# Example:\n",
    "\n",
    "def starts_with_A(x):\n",
    "    return x.startswith(\"A\")\n",
    "\n",
    "list(filter(starts_with_A, friends))"
   ]
  },
  {
   "cell_type": "markdown",
   "metadata": {},
   "source": [
    "### Reduce function\n",
    "* Reduce is a really useful function for performing some computation on a list and returning the result.\n",
    "* It applies a **rolling computation** to **sequential pairs** of values in a list."
   ]
  },
  {
   "cell_type": "code",
   "execution_count": 26,
   "metadata": {},
   "outputs": [
    {
     "data": {
      "text/plain": [
       "5050"
      ]
     },
     "execution_count": 26,
     "metadata": {},
     "output_type": "execute_result"
    }
   ],
   "source": [
    "from functools import reduce\n",
    "num_list = range(101)\n",
    "\n",
    "def sum_of(x,y):\n",
    "    return x+y\n",
    "\n",
    "reduce(sum_of, num_list)"
   ]
  },
  {
   "cell_type": "code",
   "execution_count": null,
   "metadata": {},
   "outputs": [],
   "source": []
  }
 ],
 "metadata": {
  "kernelspec": {
   "display_name": "Python 3",
   "language": "python",
   "name": "python3"
  },
  "language_info": {
   "codemirror_mode": {
    "name": "ipython",
    "version": 3
   },
   "file_extension": ".py",
   "mimetype": "text/x-python",
   "name": "python",
   "nbconvert_exporter": "python",
   "pygments_lexer": "ipython3",
   "version": "3.12.4"
  }
 },
 "nbformat": 4,
 "nbformat_minor": 2
}
