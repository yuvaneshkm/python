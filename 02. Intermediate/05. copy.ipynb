{
 "cells": [
  {
   "cell_type": "markdown",
   "metadata": {},
   "source": [
    "## Copy\n",
    "* There are three ways to copy things.\n",
    "    1. Using \"=\"\n",
    "    2. By \".copy()\" method\n",
    "    3. By \"copy.deepcopy()\" function"
   ]
  },
  {
   "cell_type": "markdown",
   "metadata": {},
   "source": [
    "### =\n",
    "* All the variables points (refers) to the same memory location."
   ]
  },
  {
   "cell_type": "code",
   "execution_count": 5,
   "metadata": {},
   "outputs": [],
   "source": [
    "# creating a list:\n",
    "list_1 = [\"worm\", \"rat\", \"snake\", \"eagle\"]\n",
    "\n",
    "# copy the list_1 to list_2:\n",
    "list_2 = list_1"
   ]
  },
  {
   "cell_type": "code",
   "execution_count": 6,
   "metadata": {},
   "outputs": [
    {
     "name": "stdout",
     "output_type": "stream",
     "text": [
      "list_1:  ['worm', 'rat', 'snake', 'eagle']\n",
      "list_2:  ['worm', 'rat', 'snake', 'eagle']\n"
     ]
    }
   ],
   "source": [
    "# print list_1 and list_2:\n",
    "print(\"list_1: \", list_1)\n",
    "print(\"list_2: \", list_2)"
   ]
  },
  {
   "cell_type": "code",
   "execution_count": 7,
   "metadata": {},
   "outputs": [
    {
     "name": "stdout",
     "output_type": "stream",
     "text": [
      "list_1:  ['worm', 'rat', 'snake', 'peacock']\n",
      "list_2:  ['worm', 'rat', 'snake', 'peacock']\n"
     ]
    }
   ],
   "source": [
    "# make a change in list_1:\n",
    "list_1[3] = 'peacock'\n",
    "\n",
    "# print list_1 and list_2:\n",
    "print(\"list_1: \", list_1)\n",
    "print(\"list_2: \", list_2)"
   ]
  },
  {
   "cell_type": "code",
   "execution_count": 8,
   "metadata": {},
   "outputs": [
    {
     "name": "stdout",
     "output_type": "stream",
     "text": [
      "list_1:  ['worm', 'rat', 'snake', 'owl']\n",
      "list_2:  ['worm', 'rat', 'snake', 'owl']\n"
     ]
    }
   ],
   "source": [
    "# make a change in list_2:\n",
    "list_2[3] = 'owl'\n",
    "\n",
    "# print list_1 and list_2:\n",
    "print(\"list_1: \", list_1)\n",
    "print(\"list_2: \", list_2)"
   ]
  },
  {
   "cell_type": "markdown",
   "metadata": {},
   "source": [
    "* Here in this both list_1 and list_2, variables refers(points) the same memory location where list_1 is stored."
   ]
  },
  {
   "cell_type": "code",
   "execution_count": 31,
   "metadata": {},
   "outputs": [
    {
     "name": "stdout",
     "output_type": "stream",
     "text": [
      "list_1: 2117846433152\n",
      "list_2: 2117846433152\n",
      "----------------------------------------\n",
      "worm\n",
      "list_1: 2117846335680\n",
      "list_2: 2117846335680\n",
      "--------------------------------------\n",
      "rat\n",
      "list_1: 2117846336256\n",
      "list_2: 2117846336256\n",
      "--------------------------------------\n",
      "snake\n",
      "list_1: 2117846336304\n",
      "list_2: 2117846336304\n",
      "--------------------------------------\n",
      "owl\n",
      "list_1: 2117846342256\n",
      "list_2: 2117846342256\n",
      "--------------------------------------\n"
     ]
    }
   ],
   "source": [
    "print(f\"list_1: {id(list_1)}\\nlist_2: {id(list_2)}\")\n",
    "print(\"----------------------------------------\")\n",
    "for i in range(len(list_1)):\n",
    "    print(f\"{list_1[i]}\\nlist_1: {id(list_1[i])}\\nlist_2: {id(list_2[i])}\")\n",
    "    print(\"--------------------------------------\")"
   ]
  },
  {
   "cell_type": "markdown",
   "metadata": {},
   "source": [
    "### .copy()"
   ]
  },
  {
   "cell_type": "code",
   "execution_count": 89,
   "metadata": {},
   "outputs": [
    {
     "name": "stdout",
     "output_type": "stream",
     "text": [
      "[[1, 2, 3], [4, 5, 6]]\n",
      "[[1, 2, 3], [4, 5, 6]]\n"
     ]
    }
   ],
   "source": [
    "lst1 = [[1,2,3], [4,5,6]]\n",
    "lst2 = lst1.copy()\n",
    "\n",
    "print(lst1)\n",
    "print(lst2)"
   ]
  },
  {
   "cell_type": "code",
   "execution_count": 90,
   "metadata": {},
   "outputs": [
    {
     "name": "stdout",
     "output_type": "stream",
     "text": [
      "2117852658496\n",
      "2117853071808\n",
      "--------------------------\n",
      "[1, 2, 3]\n",
      "2117853486016\n",
      "2117853486016\n",
      "----------------------------------\n",
      "[4, 5, 6]\n",
      "2117853482688\n",
      "2117853482688\n",
      "----------------------------------\n"
     ]
    }
   ],
   "source": [
    "print(f\"{id(lst1)}\\n{id(lst2)}\")\n",
    "print(\"--------------------------\")\n",
    "\n",
    "for i in range(len(lst1)):\n",
    "    print(\n",
    "        f\"{lst1[i]}\\n{id(lst1[i])}\\n{id(lst2[i])}\"\n",
    "    )\n",
    "    print(\"----------------------------------\")"
   ]
  },
  {
   "cell_type": "code",
   "execution_count": 91,
   "metadata": {},
   "outputs": [
    {
     "name": "stdout",
     "output_type": "stream",
     "text": [
      "1\n",
      "140718863874488\n",
      "---------------------\n",
      "1\n",
      "140718863874488\n"
     ]
    }
   ],
   "source": [
    "print(lst1[0][0])\n",
    "print(id(lst1[0][0]))\n",
    "print(\"---------------------\")\n",
    "print(lst2[0][0])\n",
    "print(id(lst2[0][0]))"
   ]
  },
  {
   "cell_type": "code",
   "execution_count": 92,
   "metadata": {},
   "outputs": [
    {
     "name": "stdout",
     "output_type": "stream",
     "text": [
      "[[1, 2, 3], [4, 5, 6]]\n",
      "[[1, 2, 3], [4, 5, 6]]\n"
     ]
    }
   ],
   "source": [
    "print(lst1)\n",
    "print(lst2)"
   ]
  },
  {
   "cell_type": "code",
   "execution_count": 93,
   "metadata": {},
   "outputs": [
    {
     "name": "stdout",
     "output_type": "stream",
     "text": [
      "[[10, 20, 30], [4, 5, 6]]\n",
      "[[1, 2, 3], [4, 5, 6]]\n",
      "==========================\n",
      "[[10, 20, 30], [4, 5, 6]]\n",
      "[[40, 50, 60], [4, 5, 6]]\n"
     ]
    }
   ],
   "source": [
    "lst1[0] = [10,20,30]\n",
    "print(lst1)\n",
    "print(lst2)\n",
    "\n",
    "print(\"==========================\")\n",
    "\n",
    "lst2[0] = [40,50,60]\n",
    "print(lst1)\n",
    "print(lst2)"
   ]
  },
  {
   "cell_type": "code",
   "execution_count": 94,
   "metadata": {},
   "outputs": [
    {
     "name": "stdout",
     "output_type": "stream",
     "text": [
      "[[10, 20, 30], [4, 5, 6]]\n",
      "[[40, 50, 60], [4, 5, 6]]\n"
     ]
    }
   ],
   "source": [
    "print(lst1)\n",
    "print(lst2)"
   ]
  },
  {
   "cell_type": "code",
   "execution_count": 96,
   "metadata": {},
   "outputs": [
    {
     "name": "stdout",
     "output_type": "stream",
     "text": [
      "[[7, 20, 30], [7, 5, 6]]\n",
      "[[80, 50, 60], [7, 5, 6]]\n",
      "=================================\n",
      "[[7, 20, 30], [80, 5, 6]]\n",
      "[[80, 50, 60], [80, 5, 6]]\n"
     ]
    }
   ],
   "source": [
    "lst1[1][0] = 7\n",
    "print(lst1)\n",
    "print(lst2)\n",
    "\n",
    "print(\"=================================\")\n",
    "\n",
    "lst2[1][0] = 80\n",
    "print(lst1)\n",
    "print(lst2)"
   ]
  },
  {
   "cell_type": "markdown",
   "metadata": {},
   "source": [
    "### copy.deepcopy()"
   ]
  },
  {
   "cell_type": "code",
   "execution_count": 98,
   "metadata": {},
   "outputs": [
    {
     "name": "stdout",
     "output_type": "stream",
     "text": [
      "[[1, 2, 3], [4, 5, 6]]\n",
      "[[1, 2, 3], [4, 5, 6]]\n"
     ]
    }
   ],
   "source": [
    "import copy\n",
    "\n",
    "lst1 = [[1,2,3], [4,5,6]]\n",
    "lst2 = copy.deepcopy(lst1)\n",
    "\n",
    "print(lst1)\n",
    "print(lst2)"
   ]
  },
  {
   "cell_type": "code",
   "execution_count": 99,
   "metadata": {},
   "outputs": [
    {
     "name": "stdout",
     "output_type": "stream",
     "text": [
      "2117852844864\n",
      "2117847026688\n",
      "--------------------------\n",
      "[1, 2, 3]\n",
      "2117852607104\n",
      "2117852945344\n",
      "----------------------------------\n",
      "[4, 5, 6]\n",
      "2117853285760\n",
      "2117846397248\n",
      "----------------------------------\n"
     ]
    }
   ],
   "source": [
    "print(f\"{id(lst1)}\\n{id(lst2)}\")\n",
    "print(\"--------------------------\")\n",
    "\n",
    "for i in range(len(lst1)):\n",
    "    print(\n",
    "        f\"{lst1[i]}\\n{id(lst1[i])}\\n{id(lst2[i])}\"\n",
    "    )\n",
    "    print(\"----------------------------------\")"
   ]
  },
  {
   "cell_type": "code",
   "execution_count": null,
   "metadata": {},
   "outputs": [],
   "source": []
  }
 ],
 "metadata": {
  "kernelspec": {
   "display_name": "Python 3",
   "language": "python",
   "name": "python3"
  },
  "language_info": {
   "codemirror_mode": {
    "name": "ipython",
    "version": 3
   },
   "file_extension": ".py",
   "mimetype": "text/x-python",
   "name": "python",
   "nbconvert_exporter": "python",
   "pygments_lexer": "ipython3",
   "version": "3.12.4"
  }
 },
 "nbformat": 4,
 "nbformat_minor": 2
}
