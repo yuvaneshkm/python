{
 "cells": [
  {
   "cell_type": "markdown",
   "metadata": {},
   "source": [
    "## Iterables and Iterators"
   ]
  },
  {
   "cell_type": "markdown",
   "metadata": {},
   "source": [
    "### Iterables\n",
    "* Iterable is an object that can be (looped over) or (iterated over) using **for** loop.\n",
    "* Iterables typiclly hold data that you want to iterate over one value at a time.\n",
    "\n",
    "Eg: List, Tuple, Set, Dictionary etc....\n",
    "\n",
    "* As soon as you initialised the (list, tuple, dictionary, set), all the values are saved in the memory location.\n",
    "* We can see all the elements at once."
   ]
  },
  {
   "cell_type": "code",
   "execution_count": 3,
   "metadata": {},
   "outputs": [
    {
     "name": "stdout",
     "output_type": "stream",
     "text": [
      "Maharastra\n",
      "Gujarat\n",
      "Andhra Pradesh\n"
     ]
    }
   ],
   "source": [
    "# List:\n",
    "\n",
    "states = [\"Maharastra\", \"Gujarat\", \"Andhra Pradesh\"]\n",
    "for state in states:\n",
    "    print(state)"
   ]
  },
  {
   "cell_type": "code",
   "execution_count": 4,
   "metadata": {},
   "outputs": [
    {
     "name": "stdout",
     "output_type": "stream",
     "text": [
      "India\n",
      "Australia\n",
      "England\n"
     ]
    }
   ],
   "source": [
    "# Tuple:\n",
    "\n",
    "countries = (\"India\", \"Australia\", \"England\")\n",
    "for country in countries:\n",
    "    print(country)"
   ]
  },
  {
   "cell_type": "code",
   "execution_count": 8,
   "metadata": {},
   "outputs": [
    {
     "name": "stdout",
     "output_type": "stream",
     "text": [
      "Tiger\n",
      "Lion\n",
      "Elephant\n"
     ]
    }
   ],
   "source": [
    "# Set:\n",
    "\n",
    "animals = {\"Lion\", \"Tiger\", \"Elephant\", \"Tiger\", \"Lion\"}\n",
    "for animal in animals:\n",
    "    print(animal)"
   ]
  },
  {
   "cell_type": "code",
   "execution_count": 1,
   "metadata": {},
   "outputs": [
    {
     "name": "stdout",
     "output_type": "stream",
     "text": [
      "MAH\n",
      "GJ\n",
      "AP\n"
     ]
    }
   ],
   "source": [
    "# Dictionary:\n",
    "\n",
    "state_capital = {'MAH':'Mumbai', \"GJ\":\"Gandhinagar\", \"AP\":\"Amaravati\"}\n",
    "for i in state_capital:\n",
    "    print(i)"
   ]
  },
  {
   "cell_type": "markdown",
   "metadata": {},
   "source": [
    "### Iterators\n",
    "* An iterator is an object that allows a programmer to traverse a container, such a list and access its contents.\n",
    "* An iterator is an object representing a stream of data.\n",
    "* It returns the next item in the stream when you call **next()** on it.\n",
    "\n",
    "* Iterators are used to fetch elements one at a time using the next() function or a for loop.\n",
    "* They are typically used in situations where **memory efficiency** is crucial, such as handling large data streams."
   ]
  },
  {
   "cell_type": "code",
   "execution_count": 11,
   "metadata": {},
   "outputs": [
    {
     "name": "stdout",
     "output_type": "stream",
     "text": [
      "cities type: <class 'list'>\n",
      "iter_cities type: <class 'list_iterator'>\n"
     ]
    }
   ],
   "source": [
    "# List Iterator:\n",
    "\n",
    "cities = [\"Mumbai\", \"Delhi\", \"Kolkata\", \"Bengaluru\", \"Hyderabad\"]\n",
    "iter_cities = iter(cities)\n",
    "\n",
    "print(f\"cities type: {type(cities)}\\niter_cities type: {type(iter_cities)}\")"
   ]
  },
  {
   "cell_type": "code",
   "execution_count": 16,
   "metadata": {},
   "outputs": [
    {
     "name": "stdout",
     "output_type": "stream",
     "text": [
      "Cities ------> ['Mumbai', 'Delhi', 'Kolkata', 'Bengaluru', 'Hyderabad']\n",
      "iter_cities -> <list_iterator object at 0x000001AA69E0A530>\n"
     ]
    }
   ],
   "source": [
    "print(\"Cities ------>\",cities)\n",
    "print(\"iter_cities ->\", iter_cities)"
   ]
  },
  {
   "cell_type": "code",
   "execution_count": 13,
   "metadata": {},
   "outputs": [
    {
     "name": "stdout",
     "output_type": "stream",
     "text": [
      "Mumbai\n",
      "Delhi\n",
      "Kolkata\n",
      "Bengaluru\n",
      "Hyderabad\n"
     ]
    },
    {
     "ename": "StopIteration",
     "evalue": "",
     "output_type": "error",
     "traceback": [
      "\u001b[1;31m---------------------------------------------------------------------------\u001b[0m",
      "\u001b[1;31mStopIteration\u001b[0m                             Traceback (most recent call last)",
      "Cell \u001b[1;32mIn[13], line 6\u001b[0m\n\u001b[0;32m      4\u001b[0m \u001b[38;5;28mprint\u001b[39m(\u001b[38;5;28mnext\u001b[39m(iter_cities))\n\u001b[0;32m      5\u001b[0m \u001b[38;5;28mprint\u001b[39m(\u001b[38;5;28mnext\u001b[39m(iter_cities))\n\u001b[1;32m----> 6\u001b[0m \u001b[38;5;28mprint\u001b[39m(\u001b[38;5;28;43mnext\u001b[39;49m\u001b[43m(\u001b[49m\u001b[43miter_cities\u001b[49m\u001b[43m)\u001b[49m)\n",
      "\u001b[1;31mStopIteration\u001b[0m: "
     ]
    }
   ],
   "source": [
    "print(next(iter_cities))\n",
    "print(next(iter_cities))\n",
    "print(next(iter_cities))\n",
    "print(next(iter_cities))\n",
    "print(next(iter_cities))\n",
    "print(next(iter_cities))"
   ]
  },
  {
   "cell_type": "code",
   "execution_count": null,
   "metadata": {},
   "outputs": [],
   "source": []
  }
 ],
 "metadata": {
  "kernelspec": {
   "display_name": "Python 3",
   "language": "python",
   "name": "python3"
  },
  "language_info": {
   "codemirror_mode": {
    "name": "ipython",
    "version": 3
   },
   "file_extension": ".py",
   "mimetype": "text/x-python",
   "name": "python",
   "nbconvert_exporter": "python",
   "pygments_lexer": "ipython3",
   "version": "3.12.4"
  }
 },
 "nbformat": 4,
 "nbformat_minor": 2
}
