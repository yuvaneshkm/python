{
 "cells": [
  {
   "cell_type": "markdown",
   "metadata": {},
   "source": [
    "## args and kwargs"
   ]
  },
  {
   "cell_type": "markdown",
   "metadata": {},
   "source": [
    "### *args\n",
    "* args ---------> arguments.\n",
    "* Allows you to pass multiple *non-keyword arguments* to a function or a method."
   ]
  },
  {
   "cell_type": "code",
   "execution_count": 5,
   "metadata": {},
   "outputs": [
    {
     "name": "stdout",
     "output_type": "stream",
     "text": [
      "Andhra Pradesh\n",
      "Gujarat\n",
      "Maharastra\n"
     ]
    }
   ],
   "source": [
    "# Example:\n",
    "def states(*args):\n",
    "    for state in args:\n",
    "        print(state)\n",
    "\n",
    "states('Andhra Pradesh', 'Gujarat', 'Maharastra')"
   ]
  },
  {
   "cell_type": "markdown",
   "metadata": {},
   "source": [
    "* Here * creates a tuple of all the non-keyword parameters."
   ]
  },
  {
   "cell_type": "markdown",
   "metadata": {},
   "source": [
    "### **kwargs\n",
    "* kwargs -----------> keyword arguments.\n",
    "* Allows you to pass multiple *keyword arguments* to a function or a method."
   ]
  },
  {
   "cell_type": "code",
   "execution_count": 6,
   "metadata": {},
   "outputs": [
    {
     "name": "stdout",
     "output_type": "stream",
     "text": [
      "Andhra_Pradesh: Amaravati\n",
      "Gujarat: Gandhinagar\n",
      "Maharastra: Mumbai\n"
     ]
    }
   ],
   "source": [
    "# Example:\n",
    "def state_capital(**kwargs):\n",
    "    for state,capital in kwargs.items():\n",
    "        print(f\"{state}: {capital}\")\n",
    "\n",
    "state_capital(\n",
    "    Andhra_Pradesh = \"Amaravati\",\n",
    "    Gujarat = \"Gandhinagar\",\n",
    "    Maharastra = \"Mumbai\"\n",
    ")"
   ]
  },
  {
   "cell_type": "markdown",
   "metadata": {},
   "source": [
    "* Here ** creates a dictionary of all the keyword-parameters"
   ]
  },
  {
   "cell_type": "code",
   "execution_count": null,
   "metadata": {},
   "outputs": [],
   "source": []
  }
 ],
 "metadata": {
  "kernelspec": {
   "display_name": "Python 3",
   "language": "python",
   "name": "python3"
  },
  "language_info": {
   "codemirror_mode": {
    "name": "ipython",
    "version": 3
   },
   "file_extension": ".py",
   "mimetype": "text/x-python",
   "name": "python",
   "nbconvert_exporter": "python",
   "pygments_lexer": "ipython3",
   "version": "3.12.4"
  }
 },
 "nbformat": 4,
 "nbformat_minor": 2
}
