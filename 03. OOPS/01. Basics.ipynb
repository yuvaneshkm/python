{
 "cells": [
  {
   "cell_type": "markdown",
   "metadata": {},
   "source": [
    "## Object Oriented Programming\n",
    "* Before Object-Oriented-Programming, we had *procedural programming*\n",
    "* It divided program into a set of functions.\n",
    "* So, we have data stored in bunch of variables and functions operate on the data.\n",
    "\n",
    "* In OOP, we combine a group of related *variables and functions* that operate on them into a unit.\n",
    "* We call that unit as an *object*\n",
    "\n",
    "* OOP uses the concept of **DRY** (*Don't Repeat Yourself*)\n",
    "\n",
    "* Basic of OOP:\n",
    "    1. Class\n",
    "    2. Object\n",
    "    3. Methods\n",
    "    4. Constructors\n",
    "    5. Attributes\n",
    "    6. Varibles"
   ]
  },
  {
   "cell_type": "markdown",
   "metadata": {},
   "source": [
    "### Python OOP\n",
    "* Everything in python is object and based on the concept of OOP.\n",
    "* The object contains both data and code.\n",
    "\n",
    "* *Data* is in the form of *attributes*.\n",
    "* *Code* is in the form of *methods*.\n",
    "\n"
   ]
  },
  {
   "cell_type": "markdown",
   "metadata": {},
   "source": [
    "#### Examples:"
   ]
  },
  {
   "cell_type": "code",
   "execution_count": 1,
   "metadata": {},
   "outputs": [
    {
     "name": "stdout",
     "output_type": "stream",
     "text": [
      "<class 'str'>\n"
     ]
    }
   ],
   "source": [
    "# String:\n",
    "print(type(\"Hello World\"))"
   ]
  },
  {
   "cell_type": "code",
   "execution_count": 2,
   "metadata": {},
   "outputs": [
    {
     "name": "stdout",
     "output_type": "stream",
     "text": [
      "<class 'int'>\n"
     ]
    }
   ],
   "source": [
    "# Integer:\n",
    "x = 965\n",
    "print(type(x))"
   ]
  },
  {
   "cell_type": "code",
   "execution_count": 3,
   "metadata": {},
   "outputs": [
    {
     "name": "stdout",
     "output_type": "stream",
     "text": [
      "<class 'function'>\n"
     ]
    }
   ],
   "source": [
    "# Function:\n",
    "def greeting():\n",
    "    return \"Hello World\"\n",
    "\n",
    "print(type(greeting))"
   ]
  },
  {
   "cell_type": "markdown",
   "metadata": {},
   "source": [
    "So, pretymuch everything we work on in Python is actually object of some kind of class."
   ]
  },
  {
   "cell_type": "markdown",
   "metadata": {},
   "source": [
    "### Class\n",
    "* Class contains properties(Attributes) and actions(Methods).\n",
    "* Class is a template for an object."
   ]
  },
  {
   "cell_type": "code",
   "execution_count": 4,
   "metadata": {},
   "outputs": [],
   "source": [
    "# Example:\n",
    "\n",
    "class ClassName:\n",
    "    '''Creating an empty Class'''"
   ]
  },
  {
   "cell_type": "markdown",
   "metadata": {},
   "source": [
    "### Object\n",
    "* Object is an instance of class.\n",
    "* Object is a physical existence of a class."
   ]
  },
  {
   "cell_type": "code",
   "execution_count": 5,
   "metadata": {},
   "outputs": [
    {
     "data": {
      "text/plain": [
       "'Creating an empty Class'"
      ]
     },
     "execution_count": 5,
     "metadata": {},
     "output_type": "execute_result"
    }
   ],
   "source": [
    "# Example:\n",
    "\n",
    "obj = ClassName()\n",
    "obj.__doc__"
   ]
  },
  {
   "cell_type": "markdown",
   "metadata": {},
   "source": [
    "### Methods\n",
    "* In Python *Methods* are functions associated with an object, that can manipulate its data or perform actions on it.\n",
    "* They are called using *dot (.)* notation with the object name."
   ]
  },
  {
   "cell_type": "code",
   "execution_count": 6,
   "metadata": {},
   "outputs": [
    {
     "data": {
      "text/plain": [
       "'HELLO WORLD'"
      ]
     },
     "execution_count": 6,
     "metadata": {},
     "output_type": "execute_result"
    }
   ],
   "source": [
    "# Example 1:\n",
    "\n",
    "# inbuild method:\n",
    "var = str(\"Hello World\")\n",
    "var.upper()"
   ]
  },
  {
   "cell_type": "code",
   "execution_count": 7,
   "metadata": {},
   "outputs": [
    {
     "data": {
      "text/plain": [
       "'Hello Python'"
      ]
     },
     "execution_count": 7,
     "metadata": {},
     "output_type": "execute_result"
    }
   ],
   "source": [
    "# Example 2:\n",
    "\n",
    "# user defined method:\n",
    "class Greeting:\n",
    "\n",
    "    # user defined method\n",
    "    def greet(self, name):\n",
    "        return f'Hello {name}'\n",
    "    \n",
    "obj = Greeting()\n",
    "obj.greet(\"Python\")"
   ]
  },
  {
   "cell_type": "code",
   "execution_count": 8,
   "metadata": {},
   "outputs": [
    {
     "data": {
      "text/plain": [
       "__main__.Greeting"
      ]
     },
     "execution_count": 8,
     "metadata": {},
     "output_type": "execute_result"
    }
   ],
   "source": [
    "type(obj)"
   ]
  },
  {
   "cell_type": "markdown",
   "metadata": {},
   "source": [
    "### Self keyword\n",
    "- self represents the instance of the class.\n",
    "- By using the “self”  we can access the attributes and methods of the class in Python.\n",
    "- It binds the attributes with the given arguments.\n",
    "- The first parameter of methods is the instance the method is called on."
   ]
  },
  {
   "cell_type": "markdown",
   "metadata": {},
   "source": [
    "### Constructors\n",
    "* A constructor is a *special method* used to create and initialize an object of a class.\n",
    "* Constructor is executed automatically at the time of object creation.\n",
    "* It is used to declare and initialize data member / instance variables of a class.\n",
    "* It initialise the attributes of an object.\n",
    "\n",
    "* There are 3 types of constructors:\n",
    "    1. Default\n",
    "    2. Non-Parametrized\n",
    "    3. Parametrized"
   ]
  },
  {
   "cell_type": "markdown",
   "metadata": {},
   "source": [
    "#### 1. Default constructor\n",
    "* We don't have a constructor, but we can still create an object for the class because python add a default constructor during a program compilation"
   ]
  },
  {
   "cell_type": "code",
   "execution_count": 9,
   "metadata": {},
   "outputs": [
    {
     "data": {
      "text/plain": [
       "'Hello World 1'"
      ]
     },
     "execution_count": 9,
     "metadata": {},
     "output_type": "execute_result"
    }
   ],
   "source": [
    "# Example:\n",
    "\n",
    "# Class\n",
    "class Greet:\n",
    "    # Method\n",
    "    def greet(self):\n",
    "        return \"Hello World 1\"\n",
    "    \n",
    "# Object\n",
    "obj1 = Greet()\n",
    "obj1.greet()"
   ]
  },
  {
   "cell_type": "markdown",
   "metadata": {},
   "source": [
    "#### 2. Non-Parametrized constructor\n",
    "* Here constructor is defined inside a class, but without any parameters."
   ]
  },
  {
   "cell_type": "code",
   "execution_count": 10,
   "metadata": {},
   "outputs": [
    {
     "data": {
      "text/plain": [
       "'Hello World 2'"
      ]
     },
     "execution_count": 10,
     "metadata": {},
     "output_type": "execute_result"
    }
   ],
   "source": [
    "# Example:\n",
    "\n",
    "# Class\n",
    "class Greet:\n",
    "    # Constructor:\n",
    "    def __init__(self):\n",
    "        self.message = \"Hello World 2\"\n",
    "    # Method:\n",
    "    def greet(self):\n",
    "        return self.message\n",
    "    \n",
    "# Object:\n",
    "obj2 = Greet()\n",
    "obj2.greet()"
   ]
  },
  {
   "cell_type": "markdown",
   "metadata": {},
   "source": [
    "#### 3. Parameterized constructor\n",
    "* Here constructor is defined inside a class, with parameters."
   ]
  },
  {
   "cell_type": "code",
   "execution_count": 11,
   "metadata": {},
   "outputs": [
    {
     "data": {
      "text/plain": [
       "'Hello World 3'"
      ]
     },
     "execution_count": 11,
     "metadata": {},
     "output_type": "execute_result"
    }
   ],
   "source": [
    "# Example:\n",
    "\n",
    "# Class\n",
    "class Greet:\n",
    "    # Constructor:\n",
    "    def __init__(self, message: str):\n",
    "        self.message = message\n",
    "    # Method:\n",
    "    def greet(self):\n",
    "        return self.message\n",
    "    \n",
    "# Object:\n",
    "obj3 = Greet(\"Hello World 3\")\n",
    "obj3.greet()"
   ]
  },
  {
   "cell_type": "markdown",
   "metadata": {},
   "source": [
    "### Attributes\n",
    "* Attributes are data members inside a class or an object that represents the different features of class.\n",
    "* They can also be referred as characteristics of the class that can be accessed from objects or differentiate a class fron other class."
   ]
  },
  {
   "cell_type": "code",
   "execution_count": 12,
   "metadata": {},
   "outputs": [
    {
     "name": "stdout",
     "output_type": "stream",
     "text": [
      "i7\n",
      "8gb\n"
     ]
    }
   ],
   "source": [
    "# Example:\n",
    "\n",
    "class Computer:\n",
    "    def __init__(self, cpu, ram):\n",
    "        # attributes:\n",
    "        self.cpu = cpu\n",
    "        self.ram = ram\n",
    "\n",
    "obj = Computer('i7', '8gb')\n",
    "\n",
    "# accessing the attributes:\n",
    "print(f\"{obj.cpu}\\n{obj.ram}\")"
   ]
  },
  {
   "cell_type": "markdown",
   "metadata": {},
   "source": [
    "### Parameters Vs Arguments Vs Attributes"
   ]
  },
  {
   "cell_type": "code",
   "execution_count": 13,
   "metadata": {},
   "outputs": [
    {
     "data": {
      "text/plain": [
       "'Hello World'"
      ]
     },
     "execution_count": 13,
     "metadata": {},
     "output_type": "execute_result"
    }
   ],
   "source": [
    "# class:\n",
    "class Greeting:\n",
    "    # method:\n",
    "    def print_message(self, message1:str, message2:str):  #Here, message1 and message2 are Parameters\n",
    "\n",
    "        # Attributes:\n",
    "        self.message1 = message1\n",
    "        self.message2 = message2\n",
    "\n",
    "        # return statement:\n",
    "        return f\"{self.message1} {self.message2}\"\n",
    "    \n",
    "obj = Greeting()\n",
    "obj.print_message(\"Hello\", \"World\")  # Here, \"Hello\" and \"World\" are Arguments"
   ]
  },
  {
   "cell_type": "markdown",
   "metadata": {},
   "source": [
    "### Variables\n",
    "* There are 2 types of variables:\n",
    "    1. Instance variable\n",
    "    2. Class variable (static variable)"
   ]
  },
  {
   "cell_type": "markdown",
   "metadata": {},
   "source": [
    "#### Instance Variables"
   ]
  },
  {
   "cell_type": "code",
   "execution_count": 21,
   "metadata": {},
   "outputs": [
    {
     "name": "stdout",
     "output_type": "stream",
     "text": [
      "10 BMW\n",
      "10 BMW\n",
      "======================\n",
      "10 TATA\n",
      "10 BMW\n"
     ]
    }
   ],
   "source": [
    "# class:\n",
    "class Car:\n",
    "    def __init__(self):\n",
    "        # instance variables:\n",
    "        self.milage = 10\n",
    "        self.brand = \"BMW\"\n",
    "\n",
    "# creating two objects of the same class:\n",
    "c1 = Car()\n",
    "c2 = Car()\n",
    "\n",
    "# printing the attributes:\n",
    "print(c1.milage, c1.brand)\n",
    "print(c2.milage, c2.brand)\n",
    "\n",
    "# changing the variable value for one of the object:\n",
    "c1.brand = \"TATA\"\n",
    "print(\"======================\")\n",
    "\n",
    "# printing the effect:\n",
    "print(c1.milage, c1.brand)\n",
    "print(c2.milage, c2.brand)"
   ]
  },
  {
   "cell_type": "markdown",
   "metadata": {},
   "source": [
    "- Instance variables are different for different objects.\n",
    "- If you change one object it will not affect the other object."
   ]
  },
  {
   "cell_type": "markdown",
   "metadata": {},
   "source": [
    "#### Class Variable (static variables)"
   ]
  },
  {
   "cell_type": "code",
   "execution_count": 37,
   "metadata": {},
   "outputs": [
    {
     "name": "stdout",
     "output_type": "stream",
     "text": [
      "10 BMW 4\n",
      "10 BMW 4\n",
      "======================\n",
      "10 BMW 6\n",
      "10 BMW 6\n"
     ]
    }
   ],
   "source": [
    "# class:\n",
    "class Car:\n",
    "    # class variable:\n",
    "    wheels = 4\n",
    "\n",
    "    def __init__(self):\n",
    "        # instance variable\n",
    "        self.milage = 10\n",
    "        self.brand = \"BMW\"\n",
    "\n",
    "# creating two objects of the same class:\n",
    "c1 = Car()\n",
    "c2 = Car()\n",
    "\n",
    "# printing the attributes:\n",
    "print(c1.milage, c1.brand, c1.wheels)\n",
    "print(c2.milage, c2.brand, c2.wheels)\n",
    "\n",
    "# changing the variable value of the class variable:\n",
    "Car.wheels = 6\n",
    "print(\"======================\")\n",
    "\n",
    "# printing the effect:\n",
    "print(c1.milage, c1.brand, c1.wheels)\n",
    "print(c2.milage, c2.brand, c2.wheels)"
   ]
  },
  {
   "cell_type": "markdown",
   "metadata": {},
   "source": [
    "- Class variables are same for all the objects of the class.\n",
    "- If you change the class variavle, it will affect all the objects."
   ]
  },
  {
   "cell_type": "code",
   "execution_count": null,
   "metadata": {},
   "outputs": [],
   "source": []
  }
 ],
 "metadata": {
  "kernelspec": {
   "display_name": "Python 3",
   "language": "python",
   "name": "python3"
  },
  "language_info": {
   "codemirror_mode": {
    "name": "ipython",
    "version": 3
   },
   "file_extension": ".py",
   "mimetype": "text/x-python",
   "name": "python",
   "nbconvert_exporter": "python",
   "pygments_lexer": "ipython3",
   "version": "3.12.4"
  }
 },
 "nbformat": 4,
 "nbformat_minor": 2
}
